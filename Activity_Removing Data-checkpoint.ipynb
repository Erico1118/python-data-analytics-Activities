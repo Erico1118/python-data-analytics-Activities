{
 "cells": [
  {
   "cell_type": "markdown",
   "metadata": {
    "collapsed": false,
    "deletable": false,
    "editable": false,
    "jupyter": {
     "outputs_hidden": false
    },
    "nbgrader": {
     "cell_type": "markdown",
     "checksum": "70c2a5f05d1d01c4045e69a879d45f69",
     "grade": false,
     "grade_id": "cell-cfb5d4e13198fbc1",
     "locked": true,
     "schema_version": 3,
     "solution": false,
     "task": false
    }
   },
   "source": [
    "# Activity: Removing Data\n",
    "\n",
    "## Introduction\n",
    "\n",
    "In this activity you will practice using Pandas functionality to check for and remove any unwanted data from a dataset.\n",
    "This activity will cover the following topics:\n",
    "- Removing columns from a DataFrame\n",
    "- Removing rows from a DataFrame\n",
    "- Removing rows based on a condition\n",
    "- Checking for duplicate data\n"
   ]
  },
  {
   "cell_type": "markdown",
   "metadata": {
    "collapsed": false,
    "deletable": false,
    "editable": false,
    "jupyter": {
     "outputs_hidden": false
    },
    "nbgrader": {
     "cell_type": "markdown",
     "checksum": "3ac127eade256e3ccbad1742ddc524de",
     "grade": false,
     "grade_id": "cell-9501cc7499bc61a8",
     "locked": true,
     "schema_version": 3,
     "solution": false,
     "task": false
    }
   },
   "source": [
    "#### Question 1\n",
    "\n",
    "Create a `DataFrame` called `df` from the given CSV file `exotic_plants_data.csv`, then drop the column `Type` and assign the result to a new `DataFrame` called `df_no_type`.\n"
   ]
  },
  {
   "cell_type": "code",
   "execution_count": 31,
   "metadata": {
    "collapsed": false,
    "deletable": false,
    "jupyter": {
     "outputs_hidden": false
    },
    "nbgrader": {
     "cell_type": "code",
     "checksum": "6f0a6eaff6c5ef0ade1ae14a40158d95",
     "grade": false,
     "grade_id": "cell-99d36e8c8c66ea51",
     "locked": false,
     "schema_version": 3,
     "solution": true,
     "task": false
    },
    "scrolled": true
   },
   "outputs": [
    {
     "data": {
      "text/html": [
       "<div>\n",
       "<style scoped>\n",
       "    .dataframe tbody tr th:only-of-type {\n",
       "        vertical-align: middle;\n",
       "    }\n",
       "\n",
       "    .dataframe tbody tr th {\n",
       "        vertical-align: top;\n",
       "    }\n",
       "\n",
       "    .dataframe thead th {\n",
       "        text-align: right;\n",
       "    }\n",
       "</style>\n",
       "<table border=\"1\" class=\"dataframe\">\n",
       "  <thead>\n",
       "    <tr style=\"text-align: right;\">\n",
       "      <th></th>\n",
       "      <th>Plant Name</th>\n",
       "      <th>Origin</th>\n",
       "      <th>Height (cm)</th>\n",
       "    </tr>\n",
       "  </thead>\n",
       "  <tbody>\n",
       "    <tr>\n",
       "      <th>0</th>\n",
       "      <td>Orchid</td>\n",
       "      <td>Tropical</td>\n",
       "      <td>30</td>\n",
       "    </tr>\n",
       "    <tr>\n",
       "      <th>1</th>\n",
       "      <td>Fern</td>\n",
       "      <td>Tropical</td>\n",
       "      <td>40</td>\n",
       "    </tr>\n",
       "    <tr>\n",
       "      <th>2</th>\n",
       "      <td>Bamboo</td>\n",
       "      <td>Asia</td>\n",
       "      <td>600</td>\n",
       "    </tr>\n",
       "    <tr>\n",
       "      <th>3</th>\n",
       "      <td>Cactus</td>\n",
       "      <td>America</td>\n",
       "      <td>60</td>\n",
       "    </tr>\n",
       "    <tr>\n",
       "      <th>4</th>\n",
       "      <td>Bird of Paradise</td>\n",
       "      <td>Africa</td>\n",
       "      <td>150</td>\n",
       "    </tr>\n",
       "    <tr>\n",
       "      <th>...</th>\n",
       "      <td>...</td>\n",
       "      <td>...</td>\n",
       "      <td>...</td>\n",
       "    </tr>\n",
       "    <tr>\n",
       "      <th>71</th>\n",
       "      <td>Ficus</td>\n",
       "      <td>Asia</td>\n",
       "      <td>200</td>\n",
       "    </tr>\n",
       "    <tr>\n",
       "      <th>72</th>\n",
       "      <td>Columbine</td>\n",
       "      <td>North America</td>\n",
       "      <td>30</td>\n",
       "    </tr>\n",
       "    <tr>\n",
       "      <th>73</th>\n",
       "      <td>Jasmine</td>\n",
       "      <td>Asia</td>\n",
       "      <td>90</td>\n",
       "    </tr>\n",
       "    <tr>\n",
       "      <th>74</th>\n",
       "      <td>Fuchsia</td>\n",
       "      <td>Central and South America</td>\n",
       "      <td>40</td>\n",
       "    </tr>\n",
       "    <tr>\n",
       "      <th>75</th>\n",
       "      <td>Amaranth</td>\n",
       "      <td>Various</td>\n",
       "      <td>80</td>\n",
       "    </tr>\n",
       "  </tbody>\n",
       "</table>\n",
       "<p>76 rows × 3 columns</p>\n",
       "</div>"
      ],
      "text/plain": [
       "          Plant Name                     Origin  Height (cm)\n",
       "0             Orchid                   Tropical           30\n",
       "1               Fern                   Tropical           40\n",
       "2             Bamboo                       Asia          600\n",
       "3             Cactus                    America           60\n",
       "4   Bird of Paradise                     Africa          150\n",
       "..               ...                        ...          ...\n",
       "71             Ficus                       Asia          200\n",
       "72         Columbine              North America           30\n",
       "73           Jasmine                       Asia           90\n",
       "74           Fuchsia  Central and South America           40\n",
       "75          Amaranth                    Various           80\n",
       "\n",
       "[76 rows x 3 columns]"
      ]
     },
     "execution_count": 31,
     "metadata": {},
     "output_type": "execute_result"
    }
   ],
   "source": [
    "import pandas as pd\n",
    "\n",
    "df = pd.read_csv('C:/Users/Falcon/Desktop/Data Analyst Professional Training/Python Data Analytics_5 Weeks/exotic_plants_data.csv')\n",
    "# Your code here\n",
    "df\n",
    "# your code here\n",
    "df_no_type = df.drop('Type', axis=1)\n",
    "df_no_type"
   ]
  },
  {
   "cell_type": "code",
   "execution_count": 33,
   "metadata": {
    "collapsed": false,
    "deletable": false,
    "editable": false,
    "jupyter": {
     "outputs_hidden": false
    },
    "nbgrader": {
     "cell_type": "code",
     "checksum": "3469ff2ff76da7d8647728804a0730f5",
     "grade": true,
     "grade_id": "cell-84571c0862a237ac",
     "locked": true,
     "points": 1,
     "schema_version": 3,
     "solution": false,
     "task": false
    }
   },
   "outputs": [],
   "source": [
    "# Question 1 Grading Checks\n",
    "\n",
    "assert isinstance(df, pd.DataFrame), 'Have you created a DataFrame named df?'\n",
    "assert isinstance(df_no_type, pd.DataFrame), 'Have you created a DataFrame named df_no_type?'\n"
   ]
  },
  {
   "cell_type": "markdown",
   "metadata": {
    "collapsed": false,
    "deletable": false,
    "editable": false,
    "jupyter": {
     "outputs_hidden": false
    },
    "nbgrader": {
     "cell_type": "markdown",
     "checksum": "831922eddea56e87ed6bbcdb0a37dc08",
     "grade": false,
     "grade_id": "cell-7ecd1d9a552a7c19",
     "locked": true,
     "schema_version": 3,
     "solution": false,
     "task": false
    }
   },
   "source": [
    "#### Question 2\n",
    "\n",
    "Check the `df` `DataFrame` for any duplicate rows and assign the result to a new `DataFrame` called `df_duplicates`.\n"
   ]
  },
  {
   "cell_type": "code",
   "execution_count": 35,
   "metadata": {
    "collapsed": false,
    "deletable": false,
    "jupyter": {
     "outputs_hidden": false
    },
    "nbgrader": {
     "cell_type": "code",
     "checksum": "a5c416dbe952e18a4101fca04b4f61ea",
     "grade": false,
     "grade_id": "cell-ee673ddb1d8d4343",
     "locked": false,
     "schema_version": 3,
     "solution": true,
     "task": false
    }
   },
   "outputs": [
    {
     "data": {
      "text/html": [
       "<div>\n",
       "<style scoped>\n",
       "    .dataframe tbody tr th:only-of-type {\n",
       "        vertical-align: middle;\n",
       "    }\n",
       "\n",
       "    .dataframe tbody tr th {\n",
       "        vertical-align: top;\n",
       "    }\n",
       "\n",
       "    .dataframe thead th {\n",
       "        text-align: right;\n",
       "    }\n",
       "</style>\n",
       "<table border=\"1\" class=\"dataframe\">\n",
       "  <thead>\n",
       "    <tr style=\"text-align: right;\">\n",
       "      <th></th>\n",
       "      <th>Plant Name</th>\n",
       "      <th>Type</th>\n",
       "      <th>Origin</th>\n",
       "      <th>Height (cm)</th>\n",
       "    </tr>\n",
       "  </thead>\n",
       "  <tbody>\n",
       "    <tr>\n",
       "      <th>6</th>\n",
       "      <td>Cactus</td>\n",
       "      <td>Succulent</td>\n",
       "      <td>America</td>\n",
       "      <td>60</td>\n",
       "    </tr>\n",
       "    <tr>\n",
       "      <th>30</th>\n",
       "      <td>Rafflesia</td>\n",
       "      <td>Flower</td>\n",
       "      <td>Southeast Asia</td>\n",
       "      <td>20</td>\n",
       "    </tr>\n",
       "    <tr>\n",
       "      <th>47</th>\n",
       "      <td>Kangaroo Paw</td>\n",
       "      <td>Flower</td>\n",
       "      <td>Australia</td>\n",
       "      <td>60</td>\n",
       "    </tr>\n",
       "    <tr>\n",
       "      <th>48</th>\n",
       "      <td>Bougainvillea</td>\n",
       "      <td>Shrub</td>\n",
       "      <td>South America</td>\n",
       "      <td>400</td>\n",
       "    </tr>\n",
       "    <tr>\n",
       "      <th>49</th>\n",
       "      <td>Bird of Paradise</td>\n",
       "      <td>Ornamental</td>\n",
       "      <td>Africa</td>\n",
       "      <td>150</td>\n",
       "    </tr>\n",
       "    <tr>\n",
       "      <th>50</th>\n",
       "      <td>Venus Flytrap</td>\n",
       "      <td>Carnivorous</td>\n",
       "      <td>North America</td>\n",
       "      <td>15</td>\n",
       "    </tr>\n",
       "    <tr>\n",
       "      <th>51</th>\n",
       "      <td>Rose</td>\n",
       "      <td>Flower</td>\n",
       "      <td>Asia</td>\n",
       "      <td>60</td>\n",
       "    </tr>\n",
       "  </tbody>\n",
       "</table>\n",
       "</div>"
      ],
      "text/plain": [
       "          Plant Name         Type          Origin  Height (cm)\n",
       "6             Cactus    Succulent         America           60\n",
       "30         Rafflesia       Flower  Southeast Asia           20\n",
       "47      Kangaroo Paw       Flower       Australia           60\n",
       "48     Bougainvillea        Shrub   South America          400\n",
       "49  Bird of Paradise   Ornamental          Africa          150\n",
       "50     Venus Flytrap  Carnivorous   North America           15\n",
       "51              Rose       Flower            Asia           60"
      ]
     },
     "execution_count": 35,
     "metadata": {},
     "output_type": "execute_result"
    }
   ],
   "source": [
    "# Your code here\n",
    "df_duplicates = df[df.duplicated()]\n",
    "# your code here\n",
    "df_duplicates"
   ]
  },
  {
   "cell_type": "code",
   "execution_count": 64,
   "metadata": {
    "collapsed": false,
    "deletable": false,
    "editable": false,
    "jupyter": {
     "outputs_hidden": false
    },
    "nbgrader": {
     "cell_type": "code",
     "checksum": "ce0da60967ebe4e2ec91bc23bfe12a02",
     "grade": true,
     "grade_id": "cell-496fa33508cec3f2",
     "locked": true,
     "points": 1,
     "schema_version": 3,
     "solution": false,
     "task": false
    }
   },
   "outputs": [],
   "source": [
    "# Question 2 Grading Checks\n",
    "\n",
    "assert isinstance(df_duplicates, pd.DataFrame), 'Have you created a DataFrame named df_duplicates?'\n"
   ]
  },
  {
   "cell_type": "markdown",
   "metadata": {
    "collapsed": false,
    "deletable": false,
    "editable": false,
    "jupyter": {
     "outputs_hidden": false
    },
    "nbgrader": {
     "cell_type": "markdown",
     "checksum": "2520821c5d0ee989bb7cc4eb96074290",
     "grade": false,
     "grade_id": "cell-192539c7b2cf6e32",
     "locked": true,
     "schema_version": 3,
     "solution": false,
     "task": false
    }
   },
   "source": [
    "#### Question 3\n",
    "\n",
    "Check the `df` `DataFrame` for any duplicate rows based on the `Plant Name` and `Type` columns and assign the result to a new `DataFrame` called `df_plant_type_duplicates`.\n"
   ]
  },
  {
   "cell_type": "code",
   "execution_count": 41,
   "metadata": {
    "collapsed": false,
    "deletable": false,
    "jupyter": {
     "outputs_hidden": false
    },
    "nbgrader": {
     "cell_type": "code",
     "checksum": "72547775038a5300ad9f429ce44c2cc0",
     "grade": false,
     "grade_id": "cell-6f7859a5535a9c9b",
     "locked": false,
     "schema_version": 3,
     "solution": true,
     "task": false
    }
   },
   "outputs": [
    {
     "data": {
      "text/html": [
       "<div>\n",
       "<style scoped>\n",
       "    .dataframe tbody tr th:only-of-type {\n",
       "        vertical-align: middle;\n",
       "    }\n",
       "\n",
       "    .dataframe tbody tr th {\n",
       "        vertical-align: top;\n",
       "    }\n",
       "\n",
       "    .dataframe thead th {\n",
       "        text-align: right;\n",
       "    }\n",
       "</style>\n",
       "<table border=\"1\" class=\"dataframe\">\n",
       "  <thead>\n",
       "    <tr style=\"text-align: right;\">\n",
       "      <th></th>\n",
       "      <th>Plant Name</th>\n",
       "      <th>Type</th>\n",
       "      <th>Origin</th>\n",
       "      <th>Height (cm)</th>\n",
       "    </tr>\n",
       "  </thead>\n",
       "  <tbody>\n",
       "    <tr>\n",
       "      <th>2</th>\n",
       "      <td>Bamboo</td>\n",
       "      <td>Grass</td>\n",
       "      <td>Asia</td>\n",
       "      <td>600</td>\n",
       "    </tr>\n",
       "    <tr>\n",
       "      <th>3</th>\n",
       "      <td>Cactus</td>\n",
       "      <td>Succulent</td>\n",
       "      <td>America</td>\n",
       "      <td>60</td>\n",
       "    </tr>\n",
       "    <tr>\n",
       "      <th>4</th>\n",
       "      <td>Bird of Paradise</td>\n",
       "      <td>Ornamental</td>\n",
       "      <td>Africa</td>\n",
       "      <td>150</td>\n",
       "    </tr>\n",
       "    <tr>\n",
       "      <th>6</th>\n",
       "      <td>Cactus</td>\n",
       "      <td>Succulent</td>\n",
       "      <td>America</td>\n",
       "      <td>60</td>\n",
       "    </tr>\n",
       "    <tr>\n",
       "      <th>10</th>\n",
       "      <td>Bougainvillea</td>\n",
       "      <td>Shrub</td>\n",
       "      <td>South America</td>\n",
       "      <td>400</td>\n",
       "    </tr>\n",
       "  </tbody>\n",
       "</table>\n",
       "</div>"
      ],
      "text/plain": [
       "          Plant Name        Type         Origin  Height (cm)\n",
       "2             Bamboo       Grass           Asia          600\n",
       "3             Cactus   Succulent        America           60\n",
       "4   Bird of Paradise  Ornamental         Africa          150\n",
       "6             Cactus   Succulent        America           60\n",
       "10     Bougainvillea       Shrub  South America          400"
      ]
     },
     "execution_count": 41,
     "metadata": {},
     "output_type": "execute_result"
    }
   ],
   "source": [
    "# Your code here\n",
    "df_plant_type_duplicates = df[df.duplicated(subset=['Plant Name', 'Type'], keep=False)]\n",
    "# your code here\n",
    "df_plant_type_duplicates.head()\n"
   ]
  },
  {
   "cell_type": "code",
   "execution_count": 66,
   "metadata": {
    "collapsed": false,
    "deletable": false,
    "editable": false,
    "jupyter": {
     "outputs_hidden": false
    },
    "nbgrader": {
     "cell_type": "code",
     "checksum": "180c6f6b349edef05d9dd334665828d7",
     "grade": true,
     "grade_id": "cell-67e41e79158b9f13",
     "locked": true,
     "points": 1,
     "schema_version": 3,
     "solution": false,
     "task": false
    }
   },
   "outputs": [],
   "source": [
    "# Question 3 Grading Checks\n",
    "\n",
    "assert isinstance(df_plant_type_duplicates, pd.DataFrame), 'Have you created a DataFrame named df_duplicates?'\n"
   ]
  },
  {
   "cell_type": "markdown",
   "metadata": {
    "collapsed": false,
    "deletable": false,
    "editable": false,
    "jupyter": {
     "outputs_hidden": false
    },
    "nbgrader": {
     "cell_type": "markdown",
     "checksum": "12eb8d816e19a6f671e4f77180fad344",
     "grade": false,
     "grade_id": "cell-7c15411aeb7c3596",
     "locked": true,
     "schema_version": 3,
     "solution": false,
     "task": false
    }
   },
   "source": [
    "#### Question 4\n",
    "\n",
    "Create a mask called `clean_mask` that will clean up any duplicates in the `df` DataFrame that have the same `Plant Name` and `Origin` and only keep the most up-to-date duplicate entry.\n"
   ]
  },
  {
   "cell_type": "code",
   "execution_count": 70,
   "metadata": {
    "collapsed": false,
    "deletable": false,
    "jupyter": {
     "outputs_hidden": false
    },
    "nbgrader": {
     "cell_type": "code",
     "checksum": "efb50aebdf2144b09320286e8214b9c1",
     "grade": false,
     "grade_id": "cell-722a62389afc976a",
     "locked": false,
     "schema_version": 3,
     "solution": true,
     "task": false
    }
   },
   "outputs": [
    {
     "data": {
      "text/html": [
       "<div>\n",
       "<style scoped>\n",
       "    .dataframe tbody tr th:only-of-type {\n",
       "        vertical-align: middle;\n",
       "    }\n",
       "\n",
       "    .dataframe tbody tr th {\n",
       "        vertical-align: top;\n",
       "    }\n",
       "\n",
       "    .dataframe thead th {\n",
       "        text-align: right;\n",
       "    }\n",
       "</style>\n",
       "<table border=\"1\" class=\"dataframe\">\n",
       "  <thead>\n",
       "    <tr style=\"text-align: right;\">\n",
       "      <th></th>\n",
       "      <th>Plant Name</th>\n",
       "      <th>Type</th>\n",
       "      <th>Origin</th>\n",
       "      <th>Height (cm)</th>\n",
       "    </tr>\n",
       "  </thead>\n",
       "  <tbody>\n",
       "    <tr>\n",
       "      <th>0</th>\n",
       "      <td>Orchid</td>\n",
       "      <td>Ornamental</td>\n",
       "      <td>Tropical</td>\n",
       "      <td>30</td>\n",
       "    </tr>\n",
       "    <tr>\n",
       "      <th>1</th>\n",
       "      <td>Fern</td>\n",
       "      <td>Ground Cover</td>\n",
       "      <td>Tropical</td>\n",
       "      <td>40</td>\n",
       "    </tr>\n",
       "    <tr>\n",
       "      <th>5</th>\n",
       "      <td>Banana Tree</td>\n",
       "      <td>Tree</td>\n",
       "      <td>Tropical</td>\n",
       "      <td>300</td>\n",
       "    </tr>\n",
       "    <tr>\n",
       "      <th>6</th>\n",
       "      <td>Cactus</td>\n",
       "      <td>Succulent</td>\n",
       "      <td>America</td>\n",
       "      <td>60</td>\n",
       "    </tr>\n",
       "    <tr>\n",
       "      <th>7</th>\n",
       "      <td>Monstera</td>\n",
       "      <td>Ornamental</td>\n",
       "      <td>Tropical</td>\n",
       "      <td>70</td>\n",
       "    </tr>\n",
       "    <tr>\n",
       "      <th>...</th>\n",
       "      <td>...</td>\n",
       "      <td>...</td>\n",
       "      <td>...</td>\n",
       "      <td>...</td>\n",
       "    </tr>\n",
       "    <tr>\n",
       "      <th>71</th>\n",
       "      <td>Ficus</td>\n",
       "      <td>Tree</td>\n",
       "      <td>Asia</td>\n",
       "      <td>200</td>\n",
       "    </tr>\n",
       "    <tr>\n",
       "      <th>72</th>\n",
       "      <td>Columbine</td>\n",
       "      <td>Flower</td>\n",
       "      <td>North America</td>\n",
       "      <td>30</td>\n",
       "    </tr>\n",
       "    <tr>\n",
       "      <th>73</th>\n",
       "      <td>Jasmine</td>\n",
       "      <td>Shrub</td>\n",
       "      <td>Asia</td>\n",
       "      <td>90</td>\n",
       "    </tr>\n",
       "    <tr>\n",
       "      <th>74</th>\n",
       "      <td>Fuchsia</td>\n",
       "      <td>Flower</td>\n",
       "      <td>Central and South America</td>\n",
       "      <td>40</td>\n",
       "    </tr>\n",
       "    <tr>\n",
       "      <th>75</th>\n",
       "      <td>Amaranth</td>\n",
       "      <td>Flower</td>\n",
       "      <td>Various</td>\n",
       "      <td>80</td>\n",
       "    </tr>\n",
       "  </tbody>\n",
       "</table>\n",
       "<p>66 rows × 4 columns</p>\n",
       "</div>"
      ],
      "text/plain": [
       "     Plant Name          Type                     Origin  Height (cm)\n",
       "0        Orchid    Ornamental                   Tropical           30\n",
       "1          Fern  Ground Cover                   Tropical           40\n",
       "5   Banana Tree          Tree                   Tropical          300\n",
       "6        Cactus     Succulent                    America           60\n",
       "7      Monstera    Ornamental                   Tropical           70\n",
       "..          ...           ...                        ...          ...\n",
       "71        Ficus          Tree                       Asia          200\n",
       "72    Columbine        Flower              North America           30\n",
       "73      Jasmine         Shrub                       Asia           90\n",
       "74      Fuchsia        Flower  Central and South America           40\n",
       "75     Amaranth        Flower                    Various           80\n",
       "\n",
       "[66 rows x 4 columns]"
      ]
     },
     "execution_count": 70,
     "metadata": {},
     "output_type": "execute_result"
    }
   ],
   "source": [
    "# Your code here\n",
    "clean_mask = df.duplicated(subset=['Plant Name','Origin'], keep= 'last')\n",
    "# your code here\n",
    "df_clean_mask = df[-clean_mask]\n",
    "df_clean_mask\n"
   ]
  },
  {
   "cell_type": "code",
   "execution_count": 72,
   "metadata": {
    "collapsed": false,
    "deletable": false,
    "editable": false,
    "jupyter": {
     "outputs_hidden": false
    },
    "nbgrader": {
     "cell_type": "code",
     "checksum": "5068f5796c6cc77e2b04b8aa1ce9bb0f",
     "grade": true,
     "grade_id": "cell-a3bd7512e6b2d51c",
     "locked": true,
     "points": 1,
     "schema_version": 3,
     "solution": false,
     "task": false
    }
   },
   "outputs": [],
   "source": [
    "# Question 4 Grading Checks\n",
    "\n",
    "assert isinstance(clean_mask, pd.Series), 'Have you created a Series named clean_mask?'\n"
   ]
  }
 ],
 "metadata": {
  "kernelspec": {
   "display_name": "Python 3 (ipykernel)",
   "language": "python",
   "name": "python3"
  },
  "language_info": {
   "codemirror_mode": {
    "name": "ipython",
    "version": 3
   },
   "file_extension": ".py",
   "mimetype": "text/x-python",
   "name": "python",
   "nbconvert_exporter": "python",
   "pygments_lexer": "ipython3",
   "version": "3.12.3"
  }
 },
 "nbformat": 4,
 "nbformat_minor": 4
}
